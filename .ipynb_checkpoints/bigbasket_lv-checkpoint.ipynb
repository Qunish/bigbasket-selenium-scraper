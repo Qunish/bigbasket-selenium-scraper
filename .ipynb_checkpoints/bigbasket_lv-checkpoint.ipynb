{
 "cells": [
  {
   "cell_type": "code",
   "execution_count": 1,
   "id": "5cda4335-e429-45fb-95c3-6c9ec03ca027",
   "metadata": {},
   "outputs": [],
   "source": [
    "from selenium import webdriver\n",
    "from selenium.webdriver.common.by import By\n",
    "from selenium.webdriver.support.ui import WebDriverWait\n",
    "from selenium.webdriver.support import expected_conditions as EC\n",
    "import time\n",
    "import random\n",
    "from selenium.common.exceptions import NoSuchElementException"
   ]
  },
  {
   "cell_type": "code",
   "execution_count": 2,
   "id": "3ef7a2df-926c-4322-ae6e-a4148000e63c",
   "metadata": {},
   "outputs": [],
   "source": [
    "USER_AGENT_LIST = ['Mozilla/5.0 (Macintosh; Intel Mac OS X 10_15_7) AppleWebKit/537.36 (KHTML, like Gecko) Chrome/114.0.0.0 Safari/537.36',\n",
    "                'Mozilla/5.0 (X11; Linux x86_64) AppleWebKit/537.36 (KHTML, like Gecko) Ubuntu Chromium/37.0.2062.94 Chrome/37.0.2062.94 Safari/537.36',\n",
    "                'Mozilla/5.0 (Windows NT 6.1; WOW64) AppleWebKit/537.36 (KHTML, like Gecko) Chrome/45.0.2454.85 Safari/537.36',\n",
    "                'Mozilla/5.0 (Windows NT 6.1; WOW64; Trident/7.0; rv:11.0) like Gecko',\n",
    "                'Mozilla/5.0 (Windows NT 6.1; WOW64; rv:40.0) Gecko/20100101 Firefox/40.0',\n",
    "                'Mozilla/5.0 (Macintosh; Intel Mac OS X 10_10_5) AppleWebKit/600.8.9 (KHTML, like Gecko) Version/8.0.8 Safari/600.8.9'\n",
    "                'Mozilla/5.0 (iPad; CPU OS 8_4_1 like Mac OS X) AppleWebKit/600.1.4 (KHTML, like Gecko) Version/8.0 Mobile/12H321 Safari/600.1.4']\n",
    "DRIVER_FILE_PATH = \"/Users/qunishdash/.wdm/drivers/chromedriver/mac64/116.0.5845.96/chromedriver-mac-x64/chromedriver\""
   ]
  },
  {
   "cell_type": "code",
   "execution_count": 3,
   "id": "3d2a19a6-6a3d-46e4-a5f3-0b9b192d98a6",
   "metadata": {},
   "outputs": [],
   "source": [
    "def get_chrome_driver(headless_flag):\n",
    "    # Set up the Selenium webdriver\n",
    "    from selenium import webdriver\n",
    "    from selenium.webdriver.chrome.options import Options\n",
    "    from selenium.webdriver.chrome.service import Service\n",
    "\n",
    "    service = Service(executable_path=DRIVER_FILE_PATH)\n",
    "    chrome_options = Options()\n",
    "\n",
    "    if headless_flag:\n",
    "        # in case you want headless browser\n",
    "        chrome_options.add_argument(\"--headless\")\n",
    "        chrome_options.add_argument(\"--disable-extensions\")\n",
    "        chrome_options.add_argument(\"--disable-gpu\")\n",
    "        chrome_options.add_argument(\"--no-sandbox\")\n",
    "        chrome_options.add_argument(\"--start-maximized\")\n",
    "        chrome_options.add_argument(\"user-agent={}\".format(random.choice(USER_AGENT_LIST)))\n",
    "    else:\n",
    "        # in case  you want to open browser\n",
    "        chrome_options.add_argument(\"--start-maximized\")\n",
    "        chrome_options.add_argument(\"user-agent={}\".format(random.choice(USER_AGENT_LIST)))\n",
    "        chrome_options.headless = False\n",
    "\n",
    "    driver = webdriver.Chrome(service=service, options=chrome_options) \n",
    "\n",
    "    return driver"
   ]
  },
  {
   "cell_type": "code",
   "execution_count": 4,
   "id": "aa76fde9-201a-448f-8605-aac3fcb7b687",
   "metadata": {},
   "outputs": [],
   "source": [
    "# Function to scroll to a specific element on the page\n",
    "def scroll_to_element(driver, element_selector, offset_percentage=0.5):\n",
    "    element = driver.find_element(By.CSS_SELECTOR, element_selector)\n",
    "    # Calculate the offset position\n",
    "    offset = -driver.execute_script(\"return window.innerHeight\") * offset_percentage\n",
    "    # Scroll to the element with the calculated offset\n",
    "    driver.execute_script(\"arguments[0].scrollIntoView(); window.scrollBy(0, arguments[1]);\", element, offset)\n",
    "    time.sleep(3)\n",
    "\n",
    "# Function to click the \"Show More\" button if it's present\n",
    "def click_show_more(driver):\n",
    "    try:\n",
    "        show_more_button = WebDriverWait(driver, 10).until(\n",
    "            EC.element_to_be_clickable((By.CSS_SELECTOR, \".show-more button\"))  # Adjust the class\n",
    "        )\n",
    "        show_more_button.click()\n",
    "    except:\n",
    "        pass"
   ]
  },
  {
   "cell_type": "code",
   "execution_count": 5,
   "id": "cce1dcde-450a-4b18-ada6-3187f490350b",
   "metadata": {},
   "outputs": [],
   "source": [
    "def extract_data_from_card(card_element):\n",
    "    try:\n",
    "        product_name = card_element.find_element(By.CSS_SELECTOR, \".prod-name\").text.replace(\"\\n\", \" \")\n",
    "    except Exception as e:\n",
    "        product_name = \"\"\n",
    "        print(e)\n",
    "    try:\n",
    "        product_url = card_element.find_element(By.CSS_SELECTOR, \"a.ng-binding\").get_attribute(\"href\")\n",
    "    except Exception as e:\n",
    "        product_url = \"\"\n",
    "        print(e)\n",
    "    \n",
    "    data = {\n",
    "        \"product_name\": product_name,\n",
    "        \"product_url\": product_url,\n",
    "    }\n",
    "\n",
    "    return data"
   ]
  },
  {
   "cell_type": "code",
   "execution_count": 6,
   "id": "5567784a-1fce-47b0-a8c2-2abad043f738",
   "metadata": {},
   "outputs": [],
   "source": [
    "import pymongo\n",
    "\n",
    "MONGODB_URI = \"mongodb://localhost:27017/\"\n",
    "DATABASE_NAME = \"bigbasket_data_db\"\n",
    "\n",
    "def push_data_to_mongodb(data, collection_name):\n",
    "    try:\n",
    "        client = pymongo.MongoClient(MONGODB_URI)\n",
    "        db = client[DATABASE_NAME]\n",
    "        collection = db[collection_name]\n",
    "        collection.insert_many(data)\n",
    "        print(f\"Data pushed to MongoDB collection '{collection_name}' successfully.\")\n",
    "    except Exception as e:\n",
    "        print(\"Error while pushing data to MongoDB:\", e)\n",
    "    finally:\n",
    "        client.close()"
   ]
  },
  {
   "cell_type": "code",
   "execution_count": 7,
   "id": "bc89df84-e601-4314-a633-bc424ca94a6e",
   "metadata": {},
   "outputs": [],
   "source": [
    "def scrape_data(collection_url, collection_name):\n",
    "    driver = get_chrome_driver(False)\n",
    "    driver.get(collection_url)\n",
    "\n",
    "    product_section = driver.find_element(By.CSS_SELECTOR, '.pl-wrap')\n",
    "\n",
    "    print(f\"Scraping data from {collection_url}\")\n",
    "\n",
    "    while True:\n",
    "        try:\n",
    "            click_show_more(driver)\n",
    "            time.sleep(2)\n",
    "\n",
    "            initial_scroll_position = driver.execute_script(\"return window.scrollY;\")\n",
    "            scroll_to_element(driver, '.styl:nth-child(1) .pad-wrapper', offset_percentage=0.5)\n",
    "            new_scroll_position = driver.execute_script(\"return window.scrollY;\")\n",
    "\n",
    "            if new_scroll_position <= initial_scroll_position:\n",
    "                print(\"Scroll position did not change, breaking the loop\")\n",
    "                break\n",
    "        except NoSuchElementException:\n",
    "            print(\"Show More button not found, breaking the loop\")\n",
    "            break\n",
    "\n",
    "    card_elements = product_section.find_elements(By.CSS_SELECTOR, '.row.ng-scope')\n",
    "\n",
    "    all_data = []\n",
    "\n",
    "    for card_element in card_elements:\n",
    "        product_data = extract_data_from_card(card_element)\n",
    "        all_data.append(product_data)\n",
    "\n",
    "    print(all_data)\n",
    "    push_data_to_mongodb(all_data, collection_name)\n",
    "    \n",
    "    print(f\"Total data collected from {collection_url}: {len(all_data)}\")\n",
    "    driver.quit()"
   ]
  },
  {
   "cell_type": "code",
   "execution_count": 8,
   "id": "0f485020-9f15-48d4-8994-dc2e10911dff",
   "metadata": {},
   "outputs": [],
   "source": [
    "collection_urls = [\n",
    "    # {\"fruits-vegetables-lv\": \"https://www.bigbasket.com/cl/fruits-vegetables/#!page=1\"},\n",
    "    # {\"foodgrains-oil-masala-lv\": \"https://www.bigbasket.com/cl/foodgrains-oil-masala/#!page=1\"},\n",
    "    {\"bakery-cakes-dairy-lv\": \"https://www.bigbasket.com/cl/bakery-cakes-dairy/#!page=1\"},\n",
    "    # {\"beverages-lv\": \"https://www.bigbasket.com/cl/beverages/#!page=1\"},\n",
    "    # {\"snacks-branded-foods-lv\": \"https://www.bigbasket.com/cl/snacks-branded-foods/#!page=1\"},\n",
    "    # {\"beauty-hygiene-lv\": \"https://www.bigbasket.com/cl/beauty-hygiene/#!page=1\"},\n",
    "    # {\"cleaning-household-lv\": \"https://www.bigbasket.com/cl/cleaning-household/#!page=1\"},\n",
    "    # {\"kitchen-garden-pets-lv\": \"https://www.bigbasket.com/cl/kitchen-garden-pets/#!page=1\"},\n",
    "    # {\"eggs-meat-fish-lv\": \"https://www.bigbasket.com/cl/eggs-meat-fish/#!page=1\"},\n",
    "    # {\"gourmet-world-food-lv\": \"https://www.bigbasket.com/cl/gourmet-world-food/#!page=1\"},\n",
    "    # {\"baby-care-lv\": \"https://www.bigbasket.com/cl/baby-care/#!page=1\"}\n",
    "]"
   ]
  },
  {
   "cell_type": "code",
   "execution_count": 9,
   "id": "8f1e398b-cd40-4398-a809-41a92b521a3b",
   "metadata": {},
   "outputs": [
    {
     "name": "stderr",
     "output_type": "stream",
     "text": [
      "/var/folders/fh/yk5wd4g14xd7qzb16xnjp2ww0000gn/T/ipykernel_4587/2318427131.py:22: DeprecationWarning: headless property is deprecated, instead use add_argument('--headless') or add_argument('--headless=new')\n",
      "  chrome_options.headless = False\n"
     ]
    },
    {
     "name": "stdout",
     "output_type": "stream",
     "text": [
      "Scraping data from https://www.bigbasket.com/cl/bakery-cakes-dairy/#!page=1\n",
      "Scroll position did not change, breaking the loop\n",
      "[{'product_name': 'Milky Mist Paneer - Rich In Protein, Calcium, Excellent Taste 3.9 20417 Ratings', 'product_url': 'https://www.bigbasket.com/pd/137575/milky-mist-paneer-premium-fresh-1-kg-pouch/?nc=bakery-cakes-dairy&t_pg=l1-bakery-cakes-dairy&t_p=bakery-cakes-dairy&t_s=bakery-cakes-dairy&t_pos=3&t_ch=desktop'}, {'product_name': 'Milky Mist Paneer - Rich In Calcium 3.7 114 Ratings', 'product_url': 'https://www.bigbasket.com/pd/40003150/milky-mist-paneer-premium-fresh-500-g-pouch/?nc=bakery-cakes-dairy&t_pg=l1-bakery-cakes-dairy&t_p=bakery-cakes-dairy&t_s=bakery-cakes-dairy&t_pos=3&t_ch=desktop'}, {'product_name': 'Nandini GoodLife UHT Treated Toned Milk 4.1 6073 Ratings', 'product_url': 'https://www.bigbasket.com/pd/244999/nandini-goodlife-toned-milk-500-ml-pouch/?nc=bakery-cakes-dairy&t_pg=l1-bakery-cakes-dairy&t_p=bakery-cakes-dairy&t_s=bakery-cakes-dairy&t_pos=3&t_ch=desktop'}, {'product_name': 'Milky Mist Curd/Dahi - No Preservatives Added 4 3558 Ratings', 'product_url': 'https://www.bigbasket.com/pd/40003156/milky-mist-natural-set-curd-1-kg-cup/?nc=bakery-cakes-dairy&t_pg=l1-bakery-cakes-dairy&t_p=bakery-cakes-dairy&t_s=bakery-cakes-dairy&t_pos=3&t_ch=desktop'}, {'product_name': 'Amul Pasteurised Butter 4.1 94310 Ratings', 'product_url': 'https://www.bigbasket.com/pd/104864/amul-butter-pasteurised-500-g-carton/?nc=bakery-cakes-dairy&t_pg=l1-bakery-cakes-dairy&t_p=bakery-cakes-dairy&t_s=bakery-cakes-dairy&t_pos=3&t_ch=desktop'}, {'product_name': 'Amul Taaza Homogenised Toned Milk 4.2 31097 Ratings', 'product_url': 'https://www.bigbasket.com/pd/40041431/amul-taaza-fresh-toned-milk-500-ml-carton/?nc=bakery-cakes-dairy&t_pg=l1-bakery-cakes-dairy&t_p=bakery-cakes-dairy&t_s=bakery-cakes-dairy&t_pos=3&t_ch=desktop'}, {'product_name': 'Britannia Treat Croissant - Cocoa Creme Filling, 100% Veg, Soft 4.1 6734 Ratings', 'product_url': 'https://www.bigbasket.com/pd/1214487/britannia-treat-croissant-cocoa-creme-roll-100-veg-4x45-g/?nc=bakery-cakes-dairy&t_pg=l1-bakery-cakes-dairy&t_p=bakery-cakes-dairy&t_s=bakery-cakes-dairy&t_pos=3&t_ch=desktop'}, {'product_name': 'Fresho Sandwich Bread - White, Chemical Free 400G + Eggs - Regular 6pcs', 'product_url': 'https://www.bigbasket.com/pd/1204352/fresho-sandwich-bread-white-chemical-free-400g-eggs-regular-6pcs-combo/?nc=bakery-cakes-dairy&t_pg=l1-bakery-cakes-dairy&t_p=bakery-cakes-dairy&t_s=bakery-cakes-dairy&t_pos=3&t_ch=desktop'}, {'product_name': 'English Oven Bread - Brown 3.9 6200 Ratings', 'product_url': 'https://www.bigbasket.com/pd/70001169/english-oven-bread-brown-400-g-pouch/?nc=bakery-cakes-dairy&t_pg=l1-bakery-cakes-dairy&t_p=bakery-cakes-dairy&t_s=bakery-cakes-dairy&t_pos=3&t_ch=desktop'}, {'product_name': 'Fresho Bread - Brown, Chemical Free 400G + Eggs - Regular 6pcs', 'product_url': 'https://www.bigbasket.com/pd/1204353/fresho-bread-brown-chemical-free-400g-eggs-regular-6pcs-combo/?nc=bakery-cakes-dairy&t_pg=l1-bakery-cakes-dairy&t_p=bakery-cakes-dairy&t_s=bakery-cakes-dairy&t_pos=3&t_ch=desktop'}, {'product_name': 'Fresho Bread - Whole Wheat, Chemical Free 400G + Eggs - Regular 6pcs', 'product_url': 'https://www.bigbasket.com/pd/1204354/fresho-bread-whole-wheat-chemical-free-400g-eggs-regular-6pcs-combo/?nc=bakery-cakes-dairy&t_pg=l1-bakery-cakes-dairy&t_p=bakery-cakes-dairy&t_s=bakery-cakes-dairy&t_pos=3&t_ch=desktop'}, {'product_name': 'Amul Masti Buttermilk - Spice 4.2 25225 Ratings', 'product_url': 'https://www.bigbasket.com/pd/161899/amul-masti-buttermilk-spice-200-ml-carton/?nc=bakery-cakes-dairy&t_pg=l1-bakery-cakes-dairy&t_p=bakery-cakes-dairy&t_s=bakery-cakes-dairy&t_pos=3&t_ch=desktop'}, {'product_name': 'Fresho Bread - Whole Wheat, Chemical Free 400G + Eggs - Table Tray 30pcs', 'product_url': 'https://www.bigbasket.com/pd/1204360/fresho-bread-whole-wheat-chemical-free-400g-eggs-table-tray-30pcs-combo/?nc=bakery-cakes-dairy&t_pg=l1-bakery-cakes-dairy&t_p=bakery-cakes-dairy&t_s=bakery-cakes-dairy&t_pos=3&t_ch=desktop'}, {'product_name': 'Fresho Bread - Whole Wheat, Chemical Free 400G + Eggs - Table Tray 12pcs', 'product_url': 'https://www.bigbasket.com/pd/1204357/fresho-bread-whole-wheat-chemical-free-400g-eggs-table-tray-12pcs-combo/?nc=bakery-cakes-dairy&t_pg=l1-bakery-cakes-dairy&t_p=bakery-cakes-dairy&t_s=bakery-cakes-dairy&t_pos=3&t_ch=desktop'}, {'product_name': 'Amul Lactose Free Milk 4.3 5816 Ratings', 'product_url': 'https://www.bigbasket.com/pd/40049915/amul-lactose-free-milk-250-ml-tetra-pack/?nc=bakery-cakes-dairy&t_pg=l1-bakery-cakes-dairy&t_p=bakery-cakes-dairy&t_s=bakery-cakes-dairy&t_pos=3&t_ch=desktop'}, {'product_name': 'Amul Cheese Slices - Rich In Protein, Wholesome, No Added Sugar 4.2 31741 Ratings', 'product_url': 'https://www.bigbasket.com/pd/104759/amul-cheese-slices-100-g-pouch/?nc=bakery-cakes-dairy&t_pg=l1-bakery-cakes-dairy&t_p=bakery-cakes-dairy&t_s=bakery-cakes-dairy&t_pos=3&t_ch=desktop'}, {'product_name': 'Britannia Gobbles Bar Cake - Choco Chill, Soft & Fluffy Snack 4.1 11133 Ratings', 'product_url': 'https://www.bigbasket.com/pd/259985/britannia-gobbles-choco-chill-cake-120-g/?nc=bakery-cakes-dairy&t_pg=l1-bakery-cakes-dairy&t_p=bakery-cakes-dairy&t_s=bakery-cakes-dairy&t_pos=3&t_ch=desktop'}, {'product_name': 'Britannia Treat Croissant - Vanilla Creme Filling, 100% Veg, Soft 4 5140 Ratings', 'product_url': 'https://www.bigbasket.com/pd/1214335/britannia-treat-croissant-vanilla-creme-roll-100-veg-6x45-g/?nc=bakery-cakes-dairy&t_pg=l1-bakery-cakes-dairy&t_p=bakery-cakes-dairy&t_s=bakery-cakes-dairy&t_pos=3&t_ch=desktop'}, {'product_name': 'Amul Malai Paneer 3.9 34516 Ratings', 'product_url': 'https://www.bigbasket.com/pd/279588/amul-malai-paneer-200-g-pouch/?nc=bakery-cakes-dairy&t_pg=l1-bakery-cakes-dairy&t_p=bakery-cakes-dairy&t_s=bakery-cakes-dairy&t_pos=3&t_ch=desktop'}, {'product_name': 'Britannia Fudge It Brownie - Chocolate 4.2 988 Ratings', 'product_url': 'https://www.bigbasket.com/pd/40204406/britannia-chocolate-brownie-40-g/?nc=bakery-cakes-dairy&t_pg=l1-bakery-cakes-dairy&t_p=bakery-cakes-dairy&t_s=bakery-cakes-dairy&t_pos=3&t_ch=desktop'}, {'product_name': 'Britannia The Laughing Cow Cheese Slices - Creamy, Rich In Protein, Calcium 4.2 7568 Ratings', 'product_url': 'https://www.bigbasket.com/pd/40245527/britannia-cheese-slices-creamy-rich-in-protein-calcium-400-g/?nc=bakery-cakes-dairy&t_pg=l1-bakery-cakes-dairy&t_p=bakery-cakes-dairy&t_s=bakery-cakes-dairy&t_pos=3&t_ch=desktop'}, {'product_name': 'Britannia Treat Croissant - with Cocoa Creme + with Vanilla Creme Filling (2 x 45g each)', 'product_url': 'https://www.bigbasket.com/pd/1214489/britannia-treat-croissant-100-veg-cocoa-creme-roll-vanilla-creme-roll-2x45-g-each-combo/?nc=bakery-cakes-dairy&t_pg=l1-bakery-cakes-dairy&t_p=bakery-cakes-dairy&t_s=bakery-cakes-dairy&t_pos=3&t_ch=desktop'}, {'product_name': 'Britannia Treat Croissant - with Cocoa Creme + with Vanilla Creme Filling (3 x 45g each)', 'product_url': 'https://www.bigbasket.com/pd/1214490/britannia-treat-croissant-100-veg-cocoa-creme-roll-vanilla-creme-roll-3-x-45g-each-combo/?nc=bakery-cakes-dairy&t_pg=l1-bakery-cakes-dairy&t_p=bakery-cakes-dairy&t_s=bakery-cakes-dairy&t_pos=3&t_ch=desktop'}, {'product_name': 'Nandini Slim UHT Treated Skimmed Milk 4.1 2507 Ratings', 'product_url': 'https://www.bigbasket.com/pd/40000519/nandini-slim-skimmed-milk-1-l-carton/?nc=bakery-cakes-dairy&t_pg=l1-bakery-cakes-dairy&t_p=bakery-cakes-dairy&t_s=bakery-cakes-dairy&t_pos=3&t_ch=desktop'}, {'product_name': 'bb Combo Britannia Treat Croissant - Cocoa 45 g + Nescafe Classic Instant Coffee 50 g', 'product_url': 'https://www.bigbasket.com/pd/1222838/bb-combo-britannia-treat-croissant-cocoa-45-g-nescafe-classic-instant-coffee-50-g-combo/?nc=bakery-cakes-dairy&t_pg=l1-bakery-cakes-dairy&t_p=bakery-cakes-dairy&t_s=bakery-cakes-dairy&t_pos=3&t_ch=desktop'}, {'product_name': 'Hersheys Chocolate Flavor Milkshake 4.1 3883 Ratings', 'product_url': 'https://www.bigbasket.com/pd/1202884/hersheys-milk-shake-chocolate-6x180-ml/?nc=bakery-cakes-dairy&t_pg=l1-bakery-cakes-dairy&t_p=bakery-cakes-dairy&t_s=bakery-cakes-dairy&t_pos=3&t_ch=desktop'}, {'product_name': 'Hersheys Cookies N Creme Flavor Milkshake 4.1 2043 Ratings', 'product_url': 'https://www.bigbasket.com/pd/1202879/hersheys-milk-shake-cookies-creme-3x180-ml/?nc=bakery-cakes-dairy&t_pg=l1-bakery-cakes-dairy&t_p=bakery-cakes-dairy&t_s=bakery-cakes-dairy&t_pos=3&t_ch=desktop'}, {'product_name': 'Amul Butter - Unsalted 4.1 4647 Ratings', 'product_url': 'https://www.bigbasket.com/pd/40069116/amul-unsalted-butter-100-g-carton/?nc=bakery-cakes-dairy&t_pg=l1-bakery-cakes-dairy&t_p=bakery-cakes-dairy&t_s=bakery-cakes-dairy&t_pos=3&t_ch=desktop'}, {'product_name': 'Britannia Bourbon Chocolate Cream Biscuits 150 g + Treat Croissant - Cocoa Creme 45 g', 'product_url': 'https://www.bigbasket.com/pd/1221548/britannia-bourbon-chocolate-cream-biscuits-150-g-treat-croissant-cocoa-creme-45-g-combo/?nc=bakery-cakes-dairy&t_pg=l1-bakery-cakes-dairy&t_p=bakery-cakes-dairy&t_s=bakery-cakes-dairy&t_pos=3&t_ch=desktop'}, {'product_name': 'Farm Connect Organic High Protein Paneer 4 492 Ratings', 'product_url': 'https://www.bigbasket.com/pd/40164581/farm-connect-organic-high-protein-paneer-200-g/?nc=bakery-cakes-dairy&t_pg=l1-bakery-cakes-dairy&t_p=bakery-cakes-dairy&t_s=bakery-cakes-dairy&t_pos=3&t_ch=desktop'}, {'product_name': 'Nestle Everyday Dairy Whitener - Milk Powder For Tea 4.2 8599 Ratings', 'product_url': 'https://www.bigbasket.com/pd/40020214/nestle-everyday-dairy-whitener-milk-powder-for-tea-20-g-pouch/?nc=bakery-cakes-dairy&t_pg=l1-bakery-cakes-dairy&t_p=bakery-cakes-dairy&t_s=bakery-cakes-dairy&t_pos=3&t_ch=desktop'}, {'product_name': 'Britannia Treat Croissant-Cocoa Creme Filling 2x45g + Treat Croissant-Mixed Fruit 2x47g', 'product_url': 'https://www.bigbasket.com/pd/1221549/britannia-treat-croissant-cocoa-creme-filling-2x45g-treat-croissant-mixed-fruit-2x47g-combo/?nc=bakery-cakes-dairy&t_pg=l1-bakery-cakes-dairy&t_p=bakery-cakes-dairy&t_s=bakery-cakes-dairy&t_pos=3&t_ch=desktop'}, {'product_name': 'Fresho Sandwich Bread - Preservative Free 3.6 20426 Ratings', 'product_url': 'https://www.bigbasket.com/pd/40087525/fresho-sandwich-bread-safe-preservative-free-200-g/?nc=bakery-cakes-dairy&t_pg=l1-bakery-cakes-dairy&t_p=bakery-cakes-dairy&t_s=bakery-cakes-dairy&t_pos=3&t_ch=desktop'}, {'product_name': 'Sofit Soya Drink Vanilla 4.2 2409 Ratings', 'product_url': 'https://www.bigbasket.com/pd/1202898/sofit-soya-drink-vanilla-2x1-l-multipack/?nc=bakery-cakes-dairy&t_pg=l1-bakery-cakes-dairy&t_p=bakery-cakes-dairy&t_s=bakery-cakes-dairy&t_pos=3&t_ch=desktop'}, {'product_name': 'Britannia Treat Croissant - Cocoa Creme 45 g + Vanilla Creme 45 g + Mixed Fruit 47 g', 'product_url': 'https://www.bigbasket.com/pd/1221550/britannia-treat-croissant-cocoa-creme-45-g-vanilla-creme-45-g-mixed-fruit-47-g-combo/?nc=bakery-cakes-dairy&t_pg=l1-bakery-cakes-dairy&t_p=bakery-cakes-dairy&t_s=bakery-cakes-dairy&t_pos=3&t_ch=desktop'}, {'product_name': 'Britannia Treat Croissant - Orange 45 g + Treat Croissant - Cocoa Creme Filling 45 g', 'product_url': 'https://www.bigbasket.com/pd/1223634/britannia-treat-croissant-orange-45-g-treat-croissant-cocoa-creme-filling-45-g-combo/?nc=bakery-cakes-dairy&t_pg=l1-bakery-cakes-dairy&t_p=bakery-cakes-dairy&t_s=bakery-cakes-dairy&t_pos=3&t_ch=desktop'}, {'product_name': 'bb Combo Britannia Treat Croissant - Cocoa 45 g + Nescafe Iced Latte Cold Coffee 180 ml', 'product_url': 'https://www.bigbasket.com/pd/1222839/bb-combo-britannia-treat-croissant-cocoa-45-g-nescafe-iced-latte-cold-coffee-180-ml-combo/?nc=bakery-cakes-dairy&t_pg=l1-bakery-cakes-dairy&t_p=bakery-cakes-dairy&t_s=bakery-cakes-dairy&t_pos=3&t_ch=desktop'}, {'product_name': 'Amul Gold Homogenised Standardised Milk 4.2 14648 Ratings', 'product_url': 'https://www.bigbasket.com/pd/104707/amul-homogenised-standardised-milk-1-l-carton/?nc=bakery-cakes-dairy&t_pg=l1-bakery-cakes-dairy&t_p=bakery-cakes-dairy&t_s=bakery-cakes-dairy&t_pos=3&t_ch=desktop'}, {'product_name': 'Britannia 100% Whole Wheat Sandwich Bread 3.8 3375 Ratings', 'product_url': 'https://www.bigbasket.com/pd/40162924/britannia-100-whole-wheat-bread-450-g-pouch/?nc=bakery-cakes-dairy&t_pg=l1-bakery-cakes-dairy&t_p=bakery-cakes-dairy&t_s=bakery-cakes-dairy&t_pos=3&t_ch=desktop'}, {'product_name': 'Britannia Treat Croissant - Orange 45 g + Cocoa Creme 45 g + Vanilla Creme t 45 g', 'product_url': 'https://www.bigbasket.com/pd/1223635/britannia-treat-croissant-orange-45-g-cocoa-creme-45-g-vanilla-creme-t-45-g-combo/?nc=bakery-cakes-dairy&t_pg=l1-bakery-cakes-dairy&t_p=bakery-cakes-dairy&t_s=bakery-cakes-dairy&t_pos=3&t_ch=desktop'}, {'product_name': 'Yakult Probiotic Fermented Health Drink 4.2 11257 Ratings', 'product_url': 'https://www.bigbasket.com/pd/1204532/yakult-probiotic-health-drink-2x325-ml/?nc=bakery-cakes-dairy&t_pg=l1-bakery-cakes-dairy&t_p=bakery-cakes-dairy&t_s=bakery-cakes-dairy&t_pos=3&t_ch=desktop'}, {'product_name': 'Nandini Pasteurised Butter - Unsalted 4.1 2857 Ratings', 'product_url': 'https://www.bigbasket.com/pd/242668/nandini-cooking-butter-unsalted-500-g-carton/?nc=bakery-cakes-dairy&t_pg=l1-bakery-cakes-dairy&t_p=bakery-cakes-dairy&t_s=bakery-cakes-dairy&t_pos=3&t_ch=desktop'}, {'product_name': 'Amul Processed Cheese Chiplets Cubes 4.1 15706 Ratings', 'product_url': 'https://www.bigbasket.com/pd/104615/amul-processed-cheese-cubes-200-g-carton/?nc=bakery-cakes-dairy&t_pg=l1-bakery-cakes-dairy&t_p=bakery-cakes-dairy&t_s=bakery-cakes-dairy&t_pos=3&t_ch=desktop'}, {'product_name': 'Amul Fresh Cream - 25% Milk Fat Low Fat 4.1 7131 Ratings', 'product_url': 'https://www.bigbasket.com/pd/40005030/amul-fresh-cream-25-milk-fat-low-fat-1-l-carton/?nc=bakery-cakes-dairy&t_pg=l1-bakery-cakes-dairy&t_p=bakery-cakes-dairy&t_s=bakery-cakes-dairy&t_pos=3&t_ch=desktop'}, {'product_name': 'So Good Almond Milk - Unsweetened, Rich In Calcium 3.9 2115 Ratings', 'product_url': 'https://www.bigbasket.com/pd/1216315/so-good-plant-based-almond-beverage-unsweetened-rich-in-calcium-vitamins-vegan-4x1-l/?nc=bakery-cakes-dairy&t_pg=l1-bakery-cakes-dairy&t_p=bakery-cakes-dairy&t_s=bakery-cakes-dairy&t_pos=3&t_ch=desktop'}, {'product_name': 'Amul Pizza Cheese Diced - Mozzarella & Cheddar Blend 4 6122 Ratings', 'product_url': 'https://www.bigbasket.com/pd/40167237/amul-diced-cheese-blend-200-g-pouch/?nc=bakery-cakes-dairy&t_pg=l1-bakery-cakes-dairy&t_p=bakery-cakes-dairy&t_s=bakery-cakes-dairy&t_pos=3&t_ch=desktop'}, {'product_name': 'Bauli Moonfils - Choco Cream, Centre Filled Puff Rolls, Italian Recipe, Soft-Delicious 4.2 6911 Ratings', 'product_url': 'https://www.bigbasket.com/pd/1202367/bauli-moonfils-with-cocoa-cream-6x45-g/?nc=bakery-cakes-dairy&t_pg=l1-bakery-cakes-dairy&t_p=bakery-cakes-dairy&t_s=bakery-cakes-dairy&t_pos=3&t_ch=desktop'}, {'product_name': 'Britannia Toastea Premium Bake Rusk With Goodness Of Elaichi, Sooji & Wheat 4.1 16765 Ratings', 'product_url': 'https://www.bigbasket.com/pd/312568/britannia-toastea-premium-bake-rusk-with-goodness-of-elaichi-sooji-wheat-273-g/?nc=bakery-cakes-dairy&t_pg=l1-bakery-cakes-dairy&t_p=bakery-cakes-dairy&t_s=bakery-cakes-dairy&t_pos=3&t_ch=desktop'}, {'product_name': 'Amul Processed Cheese Block 4.1 11849 Ratings', 'product_url': 'https://www.bigbasket.com/pd/104582/amul-processed-cheese-block-1-kg-carton/?nc=bakery-cakes-dairy&t_pg=l1-bakery-cakes-dairy&t_p=bakery-cakes-dairy&t_s=bakery-cakes-dairy&t_pos=3&t_ch=desktop'}, {'product_name': 'Cavins Chocolate Milkshake - With Zinc, Vitamin A & D Added, Supports Immunity 4.2 1984 Ratings', 'product_url': 'https://www.bigbasket.com/pd/1207041/cavins-milkshake-chocolate-3x200-ml/?nc=bakery-cakes-dairy&t_pg=l1-bakery-cakes-dairy&t_p=bakery-cakes-dairy&t_s=bakery-cakes-dairy&t_pos=3&t_ch=desktop'}, {'product_name': 'Mother Dairy Dahi - Made From Toned Milk 4.1 11402 Ratings', 'product_url': 'https://www.bigbasket.com/pd/40004532/mother-dairy-dahi-made-from-toned-milk-400-g-cup/?nc=bakery-cakes-dairy&t_pg=l1-bakery-cakes-dairy&t_p=bakery-cakes-dairy&t_s=bakery-cakes-dairy&t_pos=3&t_ch=desktop'}, {'product_name': 'Sunfeast Dark Fantasy Belgian Chocolate Shake - Rich In Calcium & Protein, Thick, Creamy 4.2 1377 Ratings', 'product_url': 'https://www.bigbasket.com/pd/1213744/sunfeast-chocolate-shake-with-real-belgian-chocolate-3x180-ml/?nc=bakery-cakes-dairy&t_pg=l1-bakery-cakes-dairy&t_p=bakery-cakes-dairy&t_s=bakery-cakes-dairy&t_pos=3&t_ch=desktop'}, {'product_name': 'Milky Mist Fruit Yoghurt - Blueberry, Great Source Of Probiotics, Light & Healthy 4 3633 Ratings', 'product_url': 'https://www.bigbasket.com/pd/40100924/milky-mist-fruit-yoghurt-blueberry-100-g/?nc=bakery-cakes-dairy&t_pg=l1-bakery-cakes-dairy&t_p=bakery-cakes-dairy&t_s=bakery-cakes-dairy&t_pos=3&t_ch=desktop'}, {'product_name': 'AKSHAYAKALPA Malai Paneer - Organic 3.8 275 Ratings', 'product_url': 'https://www.bigbasket.com/pd/40131633/akshayakalpa-malai-paneer-organic-200-g/?nc=bakery-cakes-dairy&t_pg=l1-bakery-cakes-dairy&t_p=bakery-cakes-dairy&t_s=bakery-cakes-dairy&t_pos=3&t_ch=desktop'}, {'product_name': 'Britannia Gobbles Cake - Pineapple 4.1 7740 Ratings', 'product_url': 'https://www.bigbasket.com/pd/259991/britannia-pineapple-cake-55-g/?nc=bakery-cakes-dairy&t_pg=l1-bakery-cakes-dairy&t_p=bakery-cakes-dairy&t_s=bakery-cakes-dairy&t_pos=3&t_ch=desktop'}, {'product_name': 'Amul Lassi - Rose Flavor 4.2 7588 Ratings', 'product_url': 'https://www.bigbasket.com/pd/1213695/amul-lassi-rose-flavor-4x200-ml-carton/?nc=bakery-cakes-dairy&t_pg=l1-bakery-cakes-dairy&t_p=bakery-cakes-dairy&t_s=bakery-cakes-dairy&t_pos=3&t_ch=desktop'}, {'product_name': 'Fresho Brown Bread - Preservative Free 3.6 16096 Ratings', 'product_url': 'https://www.bigbasket.com/pd/40087526/fresho-brown-bread-safe-preservative-free-200-g/?nc=bakery-cakes-dairy&t_pg=l1-bakery-cakes-dairy&t_p=bakery-cakes-dairy&t_s=bakery-cakes-dairy&t_pos=3&t_ch=desktop'}, {'product_name': 'Bauli Moonfils - Vanilla, Centre Filled Puff Rolls, Italian Recipe, Soft & Delicious 4.2 6479 Ratings', 'product_url': 'https://www.bigbasket.com/pd/40119175/bauli-moonfils-vanilla-45-g/?nc=bakery-cakes-dairy&t_pg=l1-bakery-cakes-dairy&t_p=bakery-cakes-dairy&t_s=bakery-cakes-dairy&t_pos=3&t_ch=desktop'}, {'product_name': 'Mother Dairy Mishti Doi 4.2 11040 Ratings', 'product_url': 'https://www.bigbasket.com/pd/294186/mother-dairy-mishti-doi-400-g-cup/?nc=bakery-cakes-dairy&t_pg=l1-bakery-cakes-dairy&t_p=bakery-cakes-dairy&t_s=bakery-cakes-dairy&t_pos=3&t_ch=desktop'}, {'product_name': 'BRIYAS Tofu Paneer - Rich In Protein, Calcium, Excellent Taste & Texture 3.8 2218 Ratings', 'product_url': 'https://www.bigbasket.com/pd/40018937/briyas-tofu-soya-paneer-200-g/?nc=bakery-cakes-dairy&t_pg=l1-bakery-cakes-dairy&t_p=bakery-cakes-dairy&t_s=bakery-cakes-dairy&t_pos=3&t_ch=desktop'}, {'product_name': 'Milky Mist Fruit Yoghurt - Mango, Great Source Of Probiotics, Light & Healthy 4 3080 Ratings', 'product_url': 'https://www.bigbasket.com/pd/40124116/milky-mist-fruit-yoghurt-mango-100-ml/?nc=bakery-cakes-dairy&t_pg=l1-bakery-cakes-dairy&t_p=bakery-cakes-dairy&t_s=bakery-cakes-dairy&t_pos=3&t_ch=desktop'}, {'product_name': 'Milky Mist Fruit Yoghurt - Strawberry, Great Source Of Probiotics, Light & Healthy 4 3455 Ratings', 'product_url': 'https://www.bigbasket.com/pd/40123244/milky-mist-fruit-yoghurt-strawberry-100-ml/?nc=bakery-cakes-dairy&t_pg=l1-bakery-cakes-dairy&t_p=bakery-cakes-dairy&t_s=bakery-cakes-dairy&t_pos=3&t_ch=desktop'}, {'product_name': 'Amul Sweetened Condensed Milk Mithai Mate 4.3 8362 Ratings', 'product_url': 'https://www.bigbasket.com/pd/70001829/amul-mithai-mate-sweetened-condensed-milk-200-g-tin/?nc=bakery-cakes-dairy&t_pg=l1-bakery-cakes-dairy&t_p=bakery-cakes-dairy&t_s=bakery-cakes-dairy&t_pos=3&t_ch=desktop'}, {'product_name': 'Sofit Soya Drink Sugar Free 4.1 3154 Ratings', 'product_url': 'https://www.bigbasket.com/pd/1205150/sofit-soya-drink-sugar-free-3x1-l-multipack/?nc=bakery-cakes-dairy&t_pg=l1-bakery-cakes-dairy&t_p=bakery-cakes-dairy&t_s=bakery-cakes-dairy&t_pos=3&t_ch=desktop'}, {'product_name': \"Amul Slim 'n' Trim Skimmed Milk 4.2 3847 Ratings\", 'product_url': 'https://www.bigbasket.com/pd/40012988/amul-slim-n-trim-skimmed-milk-1-l-tetra-pouch/?nc=bakery-cakes-dairy&t_pg=l1-bakery-cakes-dairy&t_p=bakery-cakes-dairy&t_s=bakery-cakes-dairy&t_pos=3&t_ch=desktop'}, {'product_name': 'Fresho Whole Wheat Bread - Preservative Free 3.6 20473 Ratings', 'product_url': 'https://www.bigbasket.com/pd/40160490/fresho-whole-wheat-bread-chemical-free-200-g/?nc=bakery-cakes-dairy&t_pg=l1-bakery-cakes-dairy&t_p=bakery-cakes-dairy&t_s=bakery-cakes-dairy&t_pos=3&t_ch=desktop'}, {'product_name': 'Nestle A+ Toned Milk - Natural Source Of Calcium & Protein 4.1 3477 Ratings', 'product_url': 'https://www.bigbasket.com/pd/100011680/nestle-a-nourish-toned-milk-1-l-carton/?nc=bakery-cakes-dairy&t_pg=l1-bakery-cakes-dairy&t_p=bakery-cakes-dairy&t_s=bakery-cakes-dairy&t_pos=3&t_ch=desktop'}, {'product_name': 'Sunfeast Caker Trinity Cake - Triple Chocolate 4.2 4207 Ratings', 'product_url': 'https://www.bigbasket.com/pd/1212644/sunfeast-caker-trinity-cake-triple-chocolate-6x27-g/?nc=bakery-cakes-dairy&t_pg=l1-bakery-cakes-dairy&t_p=bakery-cakes-dairy&t_s=bakery-cakes-dairy&t_pos=3&t_ch=desktop'}, {'product_name': 'Britannia Gobbles Fruity Fun Cake, 115g 4.1 13796 Ratings', 'product_url': 'https://www.bigbasket.com/pd/1213493/britannia-gobbles-fruity-fun-cake-2x120-g/?nc=bakery-cakes-dairy&t_pg=l1-bakery-cakes-dairy&t_p=bakery-cakes-dairy&t_s=bakery-cakes-dairy&t_pos=3&t_ch=desktop'}, {'product_name': 'Amulya Dairy Whitener 4.3 7257 Ratings', 'product_url': 'https://www.bigbasket.com/pd/40058175/amul-amulya-dairy-whitener-1-kg-pouch/?nc=bakery-cakes-dairy&t_pg=l1-bakery-cakes-dairy&t_p=bakery-cakes-dairy&t_s=bakery-cakes-dairy&t_pos=3&t_ch=desktop'}, {'product_name': 'Nestle Milkmaid Partly Skimmed Sweetened Condensed Milk 4.3 5737 Ratings', 'product_url': 'https://www.bigbasket.com/pd/266070/nestle-milkmaid-sweetened-condensed-milk-400-g-tin/?nc=bakery-cakes-dairy&t_pg=l1-bakery-cakes-dairy&t_p=bakery-cakes-dairy&t_s=bakery-cakes-dairy&t_pos=3&t_ch=desktop'}, {'product_name': 'Sunfeast Vanilla Milkshake With Real Vanilla Extracts 4.1 164 Ratings', 'product_url': 'https://www.bigbasket.com/pd/1213747/sunfeast-vanilla-milkshake-with-real-vanilla-extracts-3x180-ml/?nc=bakery-cakes-dairy&t_pg=l1-bakery-cakes-dairy&t_p=bakery-cakes-dairy&t_s=bakery-cakes-dairy&t_pos=3&t_ch=desktop'}, {'product_name': 'Sofit Soya Drink Chocolate 4.1 1657 Ratings', 'product_url': 'https://www.bigbasket.com/pd/1202891/sofit-soya-drink-chocolate-2x1-l-multipack/?nc=bakery-cakes-dairy&t_pg=l1-bakery-cakes-dairy&t_p=bakery-cakes-dairy&t_s=bakery-cakes-dairy&t_pos=3&t_ch=desktop'}, {'product_name': 'Fresho Multigrain Bread - Preservative Free 3.6 13699 Ratings', 'product_url': 'https://www.bigbasket.com/pd/40087524/fresho-multigrain-bread-safe-preservative-free-200-g/?nc=bakery-cakes-dairy&t_pg=l1-bakery-cakes-dairy&t_p=bakery-cakes-dairy&t_s=bakery-cakes-dairy&t_pos=3&t_ch=desktop'}, {'product_name': 'Britannia Fudge It - Chocolate Brownie 4.2 2520 Ratings', 'product_url': 'https://www.bigbasket.com/pd/40198332/britannia-fudge-it-chocolate-brownie-120-g/?nc=bakery-cakes-dairy&t_pg=l1-bakery-cakes-dairy&t_p=bakery-cakes-dairy&t_s=bakery-cakes-dairy&t_pos=3&t_ch=desktop'}, {'product_name': 'Yakult Probiotic Health Drink - Light 4.1 3666 Ratings', 'product_url': 'https://www.bigbasket.com/pd/1204533/yakult-probiotic-health-drink-light-2x65-ml/?nc=bakery-cakes-dairy&t_pg=l1-bakery-cakes-dairy&t_p=bakery-cakes-dairy&t_s=bakery-cakes-dairy&t_pos=3&t_ch=desktop'}, {'product_name': 'Britannia Milk Bikis Milk Cream Biscuits 200 g + Treat Croissant - Vanilla Creme 45 g', 'product_url': 'https://www.bigbasket.com/pd/1221547/britannia-milk-bikis-milk-cream-biscuits-200-g-treat-croissant-vanilla-creme-45-g-combo/?nc=bakery-cakes-dairy&t_pg=l1-bakery-cakes-dairy&t_p=bakery-cakes-dairy&t_s=bakery-cakes-dairy&t_pos=3&t_ch=desktop'}, {'product_name': 'Go Cream - Fresh 4 1301 Ratings', 'product_url': 'https://www.bigbasket.com/pd/30010324/go-cream-fresh-1-l-carton/?nc=bakery-cakes-dairy&t_pg=l1-bakery-cakes-dairy&t_p=bakery-cakes-dairy&t_s=bakery-cakes-dairy&t_pos=3&t_ch=desktop'}, {'product_name': 'Fresho Brown Bread + Sandwich Bread (Safe, Preservative Free 200 g)', 'product_url': 'https://www.bigbasket.com/pd/1212226/fresho-brown-bread-sandwich-bread-safe-preservative-free-200-g-combo/?nc=bakery-cakes-dairy&t_pg=l1-bakery-cakes-dairy&t_p=bakery-cakes-dairy&t_s=bakery-cakes-dairy&t_pos=3&t_ch=desktop'}, {'product_name': 'Fresho Pav - Preservative Free 3.7 10196 Ratings', 'product_url': 'https://www.bigbasket.com/pd/40025357/fresho-pav-safe-preservative-free-300-g/?nc=bakery-cakes-dairy&t_pg=l1-bakery-cakes-dairy&t_p=bakery-cakes-dairy&t_s=bakery-cakes-dairy&t_pos=3&t_ch=desktop'}, {'product_name': 'AKSHAYAKALPA Organic Curd 4.1 1158 Ratings', 'product_url': 'https://www.bigbasket.com/pd/40148719/akshayakalpa-organic-curd-200-g-pouch/?nc=bakery-cakes-dairy&t_pg=l1-bakery-cakes-dairy&t_p=bakery-cakes-dairy&t_s=bakery-cakes-dairy&t_pos=3&t_ch=desktop'}, {'product_name': 'Britannia Cakes - Pineapple 30 g + Fruity Fun 50 g + Orange Bites 50 g + Choco Chill 30 g', 'product_url': 'https://www.bigbasket.com/pd/1201333/britannia-cakes-pineapple-55-g-fruity-fun-55-g-orange-bites-55-g-choco-chill-55-g-combo/?nc=bakery-cakes-dairy&t_pg=l1-bakery-cakes-dairy&t_p=bakery-cakes-dairy&t_s=bakery-cakes-dairy&t_pos=3&t_ch=desktop'}, {'product_name': 'Cavins Strawberry Milkshake - With Zinc, Vitamin A & D Added, Immunity Booster 4.2 1055 Ratings', 'product_url': 'https://www.bigbasket.com/pd/30007713/cavins-milkshake-strawberry-200-ml-tetra-pack/?nc=bakery-cakes-dairy&t_pg=l1-bakery-cakes-dairy&t_p=bakery-cakes-dairy&t_s=bakery-cakes-dairy&t_pos=3&t_ch=desktop'}, {'product_name': 'Cavins Vanilla Milkshake - With Zinc, Vitamin A & D Added, Supports Immunity 4.2 1646 Ratings', 'product_url': 'https://www.bigbasket.com/pd/1208952/cavins-milkshake-vanilla-2x1-l/?nc=bakery-cakes-dairy&t_pg=l1-bakery-cakes-dairy&t_p=bakery-cakes-dairy&t_s=bakery-cakes-dairy&t_pos=3&t_ch=desktop'}, {'product_name': 'Milky Mist Probiotic Curd - Great Source Of Calcium, Enhances Immunity, Aids In Digestion 4.1 1508 Ratings', 'product_url': 'https://www.bigbasket.com/pd/40206819/milky-mist-probiotic-curd-400-g-cup/?nc=bakery-cakes-dairy&t_pg=l1-bakery-cakes-dairy&t_p=bakery-cakes-dairy&t_s=bakery-cakes-dairy&t_pos=3&t_ch=desktop'}, {'product_name': 'So Good Plant-Based Soy Beverage - Unsweetened 4.1 819 Ratings', 'product_url': 'https://www.bigbasket.com/pd/30002115/so-good-plant-based-soy-beverage-unsweetened-rich-in-protein-low-saturated-fat-vegan-1-l/?nc=bakery-cakes-dairy&t_pg=l1-bakery-cakes-dairy&t_p=bakery-cakes-dairy&t_s=bakery-cakes-dairy&t_pos=3&t_ch=desktop'}, {'product_name': 'Milky Mist Cheese Slice - Rich In Protein, Calcium, Enhance Taste & Flavour 4.1 3039 Ratings', 'product_url': 'https://www.bigbasket.com/pd/40003159/milky-mist-cheese-slices-200-g-pouch/?nc=bakery-cakes-dairy&t_pg=l1-bakery-cakes-dairy&t_p=bakery-cakes-dairy&t_s=bakery-cakes-dairy&t_pos=3&t_ch=desktop'}, {'product_name': 'Britannia Treat Croissant - Mixed Fruit, soft, 100% Veg 3.9 1171 Ratings', 'product_url': 'https://www.bigbasket.com/pd/40243110/britannia-treat-croissant-mixed-fruit-roll-100-vegetarian-smooth-creamy-healthy-snack-47-g/?nc=bakery-cakes-dairy&t_pg=l1-bakery-cakes-dairy&t_p=bakery-cakes-dairy&t_s=bakery-cakes-dairy&t_pos=3&t_ch=desktop'}, {'product_name': 'Milky Mist Greek Yogurt - Natural, High Protein, No Added Sugar 4.2 124 Ratings', 'product_url': 'https://www.bigbasket.com/pd/40281258/milky-mist-greek-yogurt-natural-high-protein-no-added-sugar-100-g/?nc=bakery-cakes-dairy&t_pg=l1-bakery-cakes-dairy&t_p=bakery-cakes-dairy&t_s=bakery-cakes-dairy&t_pos=3&t_ch=desktop'}, {'product_name': \"D'Lecta Natural Feta Cheese Block 4 1480 Ratings\", 'product_url': 'https://www.bigbasket.com/pd/1222374/dlecta-natural-feta-cheese-block-2x100-g/?nc=bakery-cakes-dairy&t_pg=l1-bakery-cakes-dairy&t_p=bakery-cakes-dairy&t_s=bakery-cakes-dairy&t_pos=3&t_ch=desktop'}, {'product_name': 'Britannia Gobbles Cake - Orange Bites 4.1 4851 Ratings', 'product_url': 'https://www.bigbasket.com/pd/259990/britannia-gobbles-orange-bites-cake-55-g/?nc=bakery-cakes-dairy&t_pg=l1-bakery-cakes-dairy&t_p=bakery-cakes-dairy&t_s=bakery-cakes-dairy&t_pos=3&t_ch=desktop'}, {'product_name': 'Amul Pasteurised Butter Chiplets 4.3 754 Ratings', 'product_url': 'https://www.bigbasket.com/pd/40012987/amul-butter-pasteurised-school-pack-10-g-blister-pack/?nc=bakery-cakes-dairy&t_pg=l1-bakery-cakes-dairy&t_p=bakery-cakes-dairy&t_s=bakery-cakes-dairy&t_pos=3&t_ch=desktop'}, {'product_name': 'English Oven Bun - Burger 3.8 1588 Ratings', 'product_url': 'https://www.bigbasket.com/pd/40111561/english-oven-bun-burger-100-g/?nc=bakery-cakes-dairy&t_pg=l1-bakery-cakes-dairy&t_p=bakery-cakes-dairy&t_s=bakery-cakes-dairy&t_pos=3&t_ch=desktop'}, {'product_name': 'Elite Dreams Cup Cake - Choco 3.9 3890 Ratings', 'product_url': 'https://www.bigbasket.com/pd/40052061/elite-dreams-cup-cake-choco-18-g/?nc=bakery-cakes-dairy&t_pg=l1-bakery-cakes-dairy&t_p=bakery-cakes-dairy&t_s=bakery-cakes-dairy&t_pos=3&t_ch=desktop'}, {'product_name': 'Britannia Brown Bread - With Goodness Of Wheat, Enriched With Vitamins 3.9 4016 Ratings', 'product_url': 'https://www.bigbasket.com/pd/40092241/britannia-brown-bread-with-goodness-of-wheat-enriched-with-vitamins-400-g/?nc=bakery-cakes-dairy&t_pg=l1-bakery-cakes-dairy&t_p=bakery-cakes-dairy&t_s=bakery-cakes-dairy&t_pos=3&t_ch=desktop'}, {'product_name': 'Winkies Layer Cake - Chocolate 4.2 2474 Ratings', 'product_url': 'https://www.bigbasket.com/pd/40018011/winkies-layer-cake-chocolate-15-g/?nc=bakery-cakes-dairy&t_pg=l1-bakery-cakes-dairy&t_p=bakery-cakes-dairy&t_s=bakery-cakes-dairy&t_pos=3&t_ch=desktop'}, {'product_name': 'Rage Coffee Salted Caramel Cold Coffee', 'product_url': 'https://www.bigbasket.com/pd/40304797/rage-coffee-salted-caramel-cold-coffee-240-ml/?nc=bakery-cakes-dairy&t_pg=l1-bakery-cakes-dairy&t_p=bakery-cakes-dairy&t_s=bakery-cakes-dairy&t_pos=3&t_ch=desktop'}, {'product_name': 'CookieMan Choc Dipped Biscotti Finger 1 1 Rating', 'product_url': 'https://www.bigbasket.com/pd/40308066/cookieman-choc-dipped-biscotti-finger-100-g/?nc=bakery-cakes-dairy&t_pg=l1-bakery-cakes-dairy&t_p=bakery-cakes-dairy&t_s=bakery-cakes-dairy&t_pos=3&t_ch=desktop'}, {'product_name': 'CookieMan Choc Dipped Almond Fingers', 'product_url': 'https://www.bigbasket.com/pd/40308067/cookieman-choc-dipped-almond-fingers-80-g/?nc=bakery-cakes-dairy&t_pg=l1-bakery-cakes-dairy&t_p=bakery-cakes-dairy&t_s=bakery-cakes-dairy&t_pos=3&t_ch=desktop'}, {'product_name': 'CookieMan Almond Cookies', 'product_url': 'https://www.bigbasket.com/pd/40308061/cookieman-almond-cookies-150-g/?nc=bakery-cakes-dairy&t_pg=l1-bakery-cakes-dairy&t_p=bakery-cakes-dairy&t_s=bakery-cakes-dairy&t_pos=3&t_ch=desktop'}, {'product_name': 'CookieMan Almond Mini Sticks', 'product_url': 'https://www.bigbasket.com/pd/40308064/cookieman-almond-mini-sticks-120-g/?nc=bakery-cakes-dairy&t_pg=l1-bakery-cakes-dairy&t_p=bakery-cakes-dairy&t_s=bakery-cakes-dairy&t_pos=3&t_ch=desktop'}, {'product_name': \"The Baker's Dozen Fresh Orange Cake 1 1 Rating\", 'product_url': 'https://www.bigbasket.com/pd/40309526/the-bakers-dozen-fresh-orange-cake-40-g/?nc=bakery-cakes-dairy&t_pg=l1-bakery-cakes-dairy&t_p=bakery-cakes-dairy&t_s=bakery-cakes-dairy&t_pos=3&t_ch=desktop'}, {'product_name': \"NANDA'S Mr. Bready Premium Brown Bread 1.5 2 Ratings\", 'product_url': 'https://www.bigbasket.com/pd/40302653/nandas-mr-bready-premium-brown-bread-400-g/?nc=bakery-cakes-dairy&t_pg=l1-bakery-cakes-dairy&t_p=bakery-cakes-dairy&t_s=bakery-cakes-dairy&t_pos=3&t_ch=desktop'}, {'product_name': \"NANDA'S Mr. Bready Jumbo Sandwich Bread 5 4 Ratings\", 'product_url': 'https://www.bigbasket.com/pd/40302656/nandas-mr-bready-jumbo-sandwich-bread-800-g/?nc=bakery-cakes-dairy&t_pg=l1-bakery-cakes-dairy&t_p=bakery-cakes-dairy&t_s=bakery-cakes-dairy&t_pos=3&t_ch=desktop'}, {'product_name': 'Nestle A+ Toned Milk', 'product_url': 'https://www.bigbasket.com/pd/40307222/nestle-a-toned-milk-12-l-tetra-pak/?nc=bakery-cakes-dairy&t_pg=l1-bakery-cakes-dairy&t_p=bakery-cakes-dairy&t_s=bakery-cakes-dairy&t_pos=3&t_ch=desktop'}, {'product_name': 'AKSHAYAKALPA Organic Slim Milk 3 2 Ratings', 'product_url': 'https://www.bigbasket.com/pd/40311262/akshayakalpa-organic-slim-milk-200-ml/?nc=bakery-cakes-dairy&t_pg=l1-bakery-cakes-dairy&t_p=bakery-cakes-dairy&t_s=bakery-cakes-dairy&t_pos=3&t_ch=desktop'}, {'product_name': 'Rage Coffee Hazelnut Latte Cold Coffee', 'product_url': 'https://www.bigbasket.com/pd/40304795/rage-coffee-hazelnut-latte-cold-coffee-240-ml/?nc=bakery-cakes-dairy&t_pg=l1-bakery-cakes-dairy&t_p=bakery-cakes-dairy&t_s=bakery-cakes-dairy&t_pos=3&t_ch=desktop'}, {'product_name': 'CookieMan Belgian Choco Chip Cookies', 'product_url': 'https://www.bigbasket.com/pd/40308068/cookieman-belgian-choco-chip-cookies-75-g/?nc=bakery-cakes-dairy&t_pg=l1-bakery-cakes-dairy&t_p=bakery-cakes-dairy&t_s=bakery-cakes-dairy&t_pos=3&t_ch=desktop'}, {'product_name': 'bb Combo Britannia Treat Croissant - Cocoa 45 g + Nescafe Iced Latte Cold Coffee 180 ml', 'product_url': 'https://www.bigbasket.com/pd/1222839/bb-combo-britannia-treat-croissant-cocoa-45-g-nescafe-iced-latte-cold-coffee-180-ml-combo/?nc=bakery-cakes-dairy&t_pg=l1-bakery-cakes-dairy&t_p=bakery-cakes-dairy&t_s=bakery-cakes-dairy&t_pos=3&t_ch=desktop'}, {'product_name': 'Amul Gold Homogenised Standardised Milk 4.2 14648 Ratings', 'product_url': 'https://www.bigbasket.com/pd/104707/amul-homogenised-standardised-milk-1-l-carton/?nc=bakery-cakes-dairy&t_pg=l1-bakery-cakes-dairy&t_p=bakery-cakes-dairy&t_s=bakery-cakes-dairy&t_pos=3&t_ch=desktop'}, {'product_name': 'Britannia 100% Whole Wheat Sandwich Bread 3.8 3375 Ratings', 'product_url': 'https://www.bigbasket.com/pd/40162924/britannia-100-whole-wheat-bread-450-g-pouch/?nc=bakery-cakes-dairy&t_pg=l1-bakery-cakes-dairy&t_p=bakery-cakes-dairy&t_s=bakery-cakes-dairy&t_pos=3&t_ch=desktop'}, {'product_name': 'Britannia Treat Croissant - Orange 45 g + Cocoa Creme 45 g + Vanilla Creme t 45 g', 'product_url': 'https://www.bigbasket.com/pd/1223635/britannia-treat-croissant-orange-45-g-cocoa-creme-45-g-vanilla-creme-t-45-g-combo/?nc=bakery-cakes-dairy&t_pg=l1-bakery-cakes-dairy&t_p=bakery-cakes-dairy&t_s=bakery-cakes-dairy&t_pos=3&t_ch=desktop'}, {'product_name': 'Yakult Probiotic Fermented Health Drink 4.2 11257 Ratings', 'product_url': 'https://www.bigbasket.com/pd/1204532/yakult-probiotic-health-drink-2x325-ml/?nc=bakery-cakes-dairy&t_pg=l1-bakery-cakes-dairy&t_p=bakery-cakes-dairy&t_s=bakery-cakes-dairy&t_pos=3&t_ch=desktop'}, {'product_name': 'Nandini Pasteurised Butter - Unsalted 4.1 2857 Ratings', 'product_url': 'https://www.bigbasket.com/pd/242668/nandini-cooking-butter-unsalted-500-g-carton/?nc=bakery-cakes-dairy&t_pg=l1-bakery-cakes-dairy&t_p=bakery-cakes-dairy&t_s=bakery-cakes-dairy&t_pos=3&t_ch=desktop'}, {'product_name': 'Amul Processed Cheese Chiplets Cubes 4.1 15706 Ratings', 'product_url': 'https://www.bigbasket.com/pd/104615/amul-processed-cheese-cubes-200-g-carton/?nc=bakery-cakes-dairy&t_pg=l1-bakery-cakes-dairy&t_p=bakery-cakes-dairy&t_s=bakery-cakes-dairy&t_pos=3&t_ch=desktop'}, {'product_name': 'Amul Fresh Cream - 25% Milk Fat Low Fat 4.1 7131 Ratings', 'product_url': 'https://www.bigbasket.com/pd/40005030/amul-fresh-cream-25-milk-fat-low-fat-1-l-carton/?nc=bakery-cakes-dairy&t_pg=l1-bakery-cakes-dairy&t_p=bakery-cakes-dairy&t_s=bakery-cakes-dairy&t_pos=3&t_ch=desktop'}, {'product_name': 'So Good Almond Milk - Unsweetened, Rich In Calcium 3.9 2115 Ratings', 'product_url': 'https://www.bigbasket.com/pd/1216315/so-good-plant-based-almond-beverage-unsweetened-rich-in-calcium-vitamins-vegan-4x1-l/?nc=bakery-cakes-dairy&t_pg=l1-bakery-cakes-dairy&t_p=bakery-cakes-dairy&t_s=bakery-cakes-dairy&t_pos=3&t_ch=desktop'}, {'product_name': 'Amul Pizza Cheese Diced - Mozzarella & Cheddar Blend 4 6122 Ratings', 'product_url': 'https://www.bigbasket.com/pd/40167237/amul-diced-cheese-blend-200-g-pouch/?nc=bakery-cakes-dairy&t_pg=l1-bakery-cakes-dairy&t_p=bakery-cakes-dairy&t_s=bakery-cakes-dairy&t_pos=3&t_ch=desktop'}, {'product_name': 'Bauli Moonfils - Choco Cream, Centre Filled Puff Rolls, Italian Recipe, Soft-Delicious 4.2 6911 Ratings', 'product_url': 'https://www.bigbasket.com/pd/1202367/bauli-moonfils-with-cocoa-cream-6x45-g/?nc=bakery-cakes-dairy&t_pg=l1-bakery-cakes-dairy&t_p=bakery-cakes-dairy&t_s=bakery-cakes-dairy&t_pos=3&t_ch=desktop'}, {'product_name': 'Britannia Toastea Premium Bake Rusk With Goodness Of Elaichi, Sooji & Wheat 4.1 16765 Ratings', 'product_url': 'https://www.bigbasket.com/pd/312568/britannia-toastea-premium-bake-rusk-with-goodness-of-elaichi-sooji-wheat-273-g/?nc=bakery-cakes-dairy&t_pg=l1-bakery-cakes-dairy&t_p=bakery-cakes-dairy&t_s=bakery-cakes-dairy&t_pos=3&t_ch=desktop'}, {'product_name': 'Amul Processed Cheese Block 4.1 11849 Ratings', 'product_url': 'https://www.bigbasket.com/pd/104582/amul-processed-cheese-block-1-kg-carton/?nc=bakery-cakes-dairy&t_pg=l1-bakery-cakes-dairy&t_p=bakery-cakes-dairy&t_s=bakery-cakes-dairy&t_pos=3&t_ch=desktop'}, {'product_name': 'Cavins Chocolate Milkshake - With Zinc, Vitamin A & D Added, Supports Immunity 4.2 1984 Ratings', 'product_url': 'https://www.bigbasket.com/pd/1207041/cavins-milkshake-chocolate-3x200-ml/?nc=bakery-cakes-dairy&t_pg=l1-bakery-cakes-dairy&t_p=bakery-cakes-dairy&t_s=bakery-cakes-dairy&t_pos=3&t_ch=desktop'}, {'product_name': 'Mother Dairy Dahi - Made From Toned Milk 4.1 11402 Ratings', 'product_url': 'https://www.bigbasket.com/pd/40004532/mother-dairy-dahi-made-from-toned-milk-400-g-cup/?nc=bakery-cakes-dairy&t_pg=l1-bakery-cakes-dairy&t_p=bakery-cakes-dairy&t_s=bakery-cakes-dairy&t_pos=3&t_ch=desktop'}, {'product_name': 'Sunfeast Dark Fantasy Belgian Chocolate Shake - Rich In Calcium & Protein, Thick, Creamy 4.2 1377 Ratings', 'product_url': 'https://www.bigbasket.com/pd/1213744/sunfeast-chocolate-shake-with-real-belgian-chocolate-3x180-ml/?nc=bakery-cakes-dairy&t_pg=l1-bakery-cakes-dairy&t_p=bakery-cakes-dairy&t_s=bakery-cakes-dairy&t_pos=3&t_ch=desktop'}, {'product_name': 'Milky Mist Fruit Yoghurt - Blueberry, Great Source Of Probiotics, Light & Healthy 4 3633 Ratings', 'product_url': 'https://www.bigbasket.com/pd/40100924/milky-mist-fruit-yoghurt-blueberry-100-g/?nc=bakery-cakes-dairy&t_pg=l1-bakery-cakes-dairy&t_p=bakery-cakes-dairy&t_s=bakery-cakes-dairy&t_pos=3&t_ch=desktop'}, {'product_name': 'AKSHAYAKALPA Malai Paneer - Organic 3.8 275 Ratings', 'product_url': 'https://www.bigbasket.com/pd/40131633/akshayakalpa-malai-paneer-organic-200-g/?nc=bakery-cakes-dairy&t_pg=l1-bakery-cakes-dairy&t_p=bakery-cakes-dairy&t_s=bakery-cakes-dairy&t_pos=3&t_ch=desktop'}, {'product_name': 'Britannia Gobbles Cake - Pineapple 4.1 7740 Ratings', 'product_url': 'https://www.bigbasket.com/pd/259991/britannia-pineapple-cake-55-g/?nc=bakery-cakes-dairy&t_pg=l1-bakery-cakes-dairy&t_p=bakery-cakes-dairy&t_s=bakery-cakes-dairy&t_pos=3&t_ch=desktop'}, {'product_name': 'Amul Lassi - Rose Flavor 4.2 7588 Ratings', 'product_url': 'https://www.bigbasket.com/pd/1213695/amul-lassi-rose-flavor-4x200-ml-carton/?nc=bakery-cakes-dairy&t_pg=l1-bakery-cakes-dairy&t_p=bakery-cakes-dairy&t_s=bakery-cakes-dairy&t_pos=3&t_ch=desktop'}, {'product_name': 'Fresho Brown Bread - Preservative Free 3.6 16096 Ratings', 'product_url': 'https://www.bigbasket.com/pd/40087526/fresho-brown-bread-safe-preservative-free-200-g/?nc=bakery-cakes-dairy&t_pg=l1-bakery-cakes-dairy&t_p=bakery-cakes-dairy&t_s=bakery-cakes-dairy&t_pos=3&t_ch=desktop'}, {'product_name': 'Bauli Moonfils - Vanilla, Centre Filled Puff Rolls, Italian Recipe, Soft & Delicious 4.2 6479 Ratings', 'product_url': 'https://www.bigbasket.com/pd/40119175/bauli-moonfils-vanilla-45-g/?nc=bakery-cakes-dairy&t_pg=l1-bakery-cakes-dairy&t_p=bakery-cakes-dairy&t_s=bakery-cakes-dairy&t_pos=3&t_ch=desktop'}, {'product_name': 'Mother Dairy Mishti Doi 4.2 11040 Ratings', 'product_url': 'https://www.bigbasket.com/pd/294186/mother-dairy-mishti-doi-400-g-cup/?nc=bakery-cakes-dairy&t_pg=l1-bakery-cakes-dairy&t_p=bakery-cakes-dairy&t_s=bakery-cakes-dairy&t_pos=3&t_ch=desktop'}, {'product_name': 'BRIYAS Tofu Paneer - Rich In Protein, Calcium, Excellent Taste & Texture 3.8 2218 Ratings', 'product_url': 'https://www.bigbasket.com/pd/40018937/briyas-tofu-soya-paneer-200-g/?nc=bakery-cakes-dairy&t_pg=l1-bakery-cakes-dairy&t_p=bakery-cakes-dairy&t_s=bakery-cakes-dairy&t_pos=3&t_ch=desktop'}, {'product_name': 'Milky Mist Fruit Yoghurt - Mango, Great Source Of Probiotics, Light & Healthy 4 3080 Ratings', 'product_url': 'https://www.bigbasket.com/pd/40124116/milky-mist-fruit-yoghurt-mango-100-ml/?nc=bakery-cakes-dairy&t_pg=l1-bakery-cakes-dairy&t_p=bakery-cakes-dairy&t_s=bakery-cakes-dairy&t_pos=3&t_ch=desktop'}, {'product_name': 'Milky Mist Fruit Yoghurt - Strawberry, Great Source Of Probiotics, Light & Healthy 4 3455 Ratings', 'product_url': 'https://www.bigbasket.com/pd/40123244/milky-mist-fruit-yoghurt-strawberry-100-ml/?nc=bakery-cakes-dairy&t_pg=l1-bakery-cakes-dairy&t_p=bakery-cakes-dairy&t_s=bakery-cakes-dairy&t_pos=3&t_ch=desktop'}, {'product_name': 'Amul Sweetened Condensed Milk Mithai Mate 4.3 8362 Ratings', 'product_url': 'https://www.bigbasket.com/pd/70001829/amul-mithai-mate-sweetened-condensed-milk-200-g-tin/?nc=bakery-cakes-dairy&t_pg=l1-bakery-cakes-dairy&t_p=bakery-cakes-dairy&t_s=bakery-cakes-dairy&t_pos=3&t_ch=desktop'}, {'product_name': 'Sofit Soya Drink Sugar Free 4.1 3154 Ratings', 'product_url': 'https://www.bigbasket.com/pd/1205150/sofit-soya-drink-sugar-free-3x1-l-multipack/?nc=bakery-cakes-dairy&t_pg=l1-bakery-cakes-dairy&t_p=bakery-cakes-dairy&t_s=bakery-cakes-dairy&t_pos=3&t_ch=desktop'}, {'product_name': \"Amul Slim 'n' Trim Skimmed Milk 4.2 3847 Ratings\", 'product_url': 'https://www.bigbasket.com/pd/40012988/amul-slim-n-trim-skimmed-milk-1-l-tetra-pouch/?nc=bakery-cakes-dairy&t_pg=l1-bakery-cakes-dairy&t_p=bakery-cakes-dairy&t_s=bakery-cakes-dairy&t_pos=3&t_ch=desktop'}, {'product_name': 'Fresho Whole Wheat Bread - Preservative Free 3.6 20473 Ratings', 'product_url': 'https://www.bigbasket.com/pd/40160490/fresho-whole-wheat-bread-chemical-free-200-g/?nc=bakery-cakes-dairy&t_pg=l1-bakery-cakes-dairy&t_p=bakery-cakes-dairy&t_s=bakery-cakes-dairy&t_pos=3&t_ch=desktop'}, {'product_name': 'Nestle A+ Toned Milk - Natural Source Of Calcium & Protein 4.1 3477 Ratings', 'product_url': 'https://www.bigbasket.com/pd/100011680/nestle-a-nourish-toned-milk-1-l-carton/?nc=bakery-cakes-dairy&t_pg=l1-bakery-cakes-dairy&t_p=bakery-cakes-dairy&t_s=bakery-cakes-dairy&t_pos=3&t_ch=desktop'}, {'product_name': 'Sunfeast Caker Trinity Cake - Triple Chocolate 4.2 4207 Ratings', 'product_url': 'https://www.bigbasket.com/pd/1212644/sunfeast-caker-trinity-cake-triple-chocolate-6x27-g/?nc=bakery-cakes-dairy&t_pg=l1-bakery-cakes-dairy&t_p=bakery-cakes-dairy&t_s=bakery-cakes-dairy&t_pos=3&t_ch=desktop'}, {'product_name': 'Britannia Gobbles Fruity Fun Cake, 115g 4.1 13796 Ratings', 'product_url': 'https://www.bigbasket.com/pd/1213493/britannia-gobbles-fruity-fun-cake-2x120-g/?nc=bakery-cakes-dairy&t_pg=l1-bakery-cakes-dairy&t_p=bakery-cakes-dairy&t_s=bakery-cakes-dairy&t_pos=3&t_ch=desktop'}, {'product_name': 'Amulya Dairy Whitener 4.3 7257 Ratings', 'product_url': 'https://www.bigbasket.com/pd/40058175/amul-amulya-dairy-whitener-1-kg-pouch/?nc=bakery-cakes-dairy&t_pg=l1-bakery-cakes-dairy&t_p=bakery-cakes-dairy&t_s=bakery-cakes-dairy&t_pos=3&t_ch=desktop'}, {'product_name': 'Nestle Milkmaid Partly Skimmed Sweetened Condensed Milk 4.3 5737 Ratings', 'product_url': 'https://www.bigbasket.com/pd/266070/nestle-milkmaid-sweetened-condensed-milk-400-g-tin/?nc=bakery-cakes-dairy&t_pg=l1-bakery-cakes-dairy&t_p=bakery-cakes-dairy&t_s=bakery-cakes-dairy&t_pos=3&t_ch=desktop'}, {'product_name': 'Sunfeast Vanilla Milkshake With Real Vanilla Extracts 4.1 164 Ratings', 'product_url': 'https://www.bigbasket.com/pd/1213747/sunfeast-vanilla-milkshake-with-real-vanilla-extracts-3x180-ml/?nc=bakery-cakes-dairy&t_pg=l1-bakery-cakes-dairy&t_p=bakery-cakes-dairy&t_s=bakery-cakes-dairy&t_pos=3&t_ch=desktop'}]\n",
      "Data pushed to MongoDB collection 'bakery-cakes-dairy-lv' successfully.\n",
      "Total data collected from https://www.bigbasket.com/cl/bakery-cakes-dairy/#!page=1: 144\n"
     ]
    }
   ],
   "source": [
    "for collection_info in collection_urls:\n",
    "    collection_name = next(iter(collection_info.keys()))\n",
    "    url = collection_info[collection_name]\n",
    "    \n",
    "    scrape_data(url, collection_name)"
   ]
  },
  {
   "cell_type": "code",
   "execution_count": null,
   "id": "40cba0fe-9ee5-4e3e-812c-7ff8679f911b",
   "metadata": {},
   "outputs": [],
   "source": []
  }
 ],
 "metadata": {
  "kernelspec": {
   "display_name": "Python 3 (ipykernel)",
   "language": "python",
   "name": "python3"
  },
  "language_info": {
   "codemirror_mode": {
    "name": "ipython",
    "version": 3
   },
   "file_extension": ".py",
   "mimetype": "text/x-python",
   "name": "python",
   "nbconvert_exporter": "python",
   "pygments_lexer": "ipython3",
   "version": "3.9.16"
  },
  "widgets": {
   "application/vnd.jupyter.widget-state+json": {
    "state": {},
    "version_major": 2,
    "version_minor": 0
   }
  }
 },
 "nbformat": 4,
 "nbformat_minor": 5
}
